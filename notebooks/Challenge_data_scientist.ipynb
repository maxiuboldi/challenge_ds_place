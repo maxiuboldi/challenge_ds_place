{
 "cells": [
  {
   "cell_type": "markdown",
   "id": "10c26997-8865-4ee2-83be-15b5381e4df7",
   "metadata": {},
   "source": [
    "# Desafío de data science Itti\n",
    "![title](../img/itti.png)"
   ]
  },
  {
   "cell_type": "code",
   "execution_count": null,
   "id": "f74cde42-ebfc-4c74-9958-225484750673",
   "metadata": {},
   "outputs": [],
   "source": [
    "# Maximiliano Angel Uboldi"
   ]
  },
  {
   "cell_type": "markdown",
   "id": "4563a701-e9b8-426b-bdb5-e69ae7c5ada4",
   "metadata": {},
   "source": [
    "## 1 - SQL"
   ]
  },
  {
   "cell_type": "markdown",
   "id": "c3f4efe9-1b54-44f7-b8a4-48fb5fb64acd",
   "metadata": {},
   "source": [
    "Para el siguiente ejercicio se tiene una base de datos que tiene el siguiente DER:\n",
    "\n",
    "![title](../img/img_der.png)\n",
    "\n",
    "\n",
    "* Persona (id) puede tener muchas Tarjetas (se relaciona a través de `id_titular`)\n",
    "* Una Compra siempre es realizada con una única tarjeta\n",
    "* (EXTRA) La tabla Compra posee un histórico de más de 10 años y varias decenas de millones de registros por lo que las consultas a esta entidad pueden tardar varios minutos si no están correctamente optimizadas."
   ]
  },
  {
   "cell_type": "markdown",
   "id": "f54f7310-4353-4f30-b126-d69bed84669a",
   "metadata": {},
   "source": [
    "### sql-1) Query\n",
    "\n",
    "Obtener los número de tarjeta que no tengan consumos en el último mes pero que pertenecen a personas que hayan comprado al menos un total de $5000 en el último mes en los rubros (FARMACIA y SUPERMERCADOS) en conjunto. (Si es posible, tener en cuenta el punto EXTRA mencionado previamente)."
   ]
  },
  {
   "cell_type": "code",
   "execution_count": null,
   "id": "b07fbe21",
   "metadata": {
    "vscode": {
     "languageId": "sql"
    }
   },
   "outputs": [],
   "source": [
    "-- Reducimos el número de compras en una CTE a las realizadas en el último mes para optimizar el rendimiento (dependiendo del motor de base de datos, que no sabemos cuál es).\n",
    "WITH last_month_purchases AS (\n",
    "    SELECT *\n",
    "    FROM Compra\n",
    "    WHERE fecha_compra >= DATEADD(MONTH, -1, CURRENT_DATE)\n",
    ")\n",
    "-- Seleccionamos las personas que cumplan con los criterios de compra en farmacia y supermercados (ambos rubros), y al menos 5000 en total.\n",
    ",qualified_persons AS (\n",
    "    SELECT\n",
    "        p.id\n",
    "    FROM Persona p\n",
    "    JOIN Tarjeta t\n",
    "        ON p.id = t.id_titular\n",
    "    JOIN last_month_purchases c\n",
    "        ON t.nro_tarjeta = c.nro_tarjeta\n",
    "    WHERE\n",
    "        c.rubro IN ('FARMACIA', 'SUPERMERCADOS')\n",
    "    GROUP BY\n",
    "        p.id\n",
    "    HAVING\n",
    "        SUM(c.monto) >= 5000\n",
    "        AND COUNT(DISTINCT c.rubro) = 2\n",
    ")\n",
    "-- Seleccionamos las tarjetas con las que las personas que cumplieron los criterios anteriores no realizaron compras en el último mes.\n",
    "SELECT\n",
    "    t.nro_tarjeta\n",
    "FROM Tarjeta t\n",
    "JOIN qualified_persons p\n",
    "    ON t.id_titular = p.id\n",
    "WHERE\n",
    "    NOT EXISTS (\n",
    "    SELECT 1\n",
    "    FROM last_month_purchases c\n",
    "    WHERE c.nro_tarjeta = t.nro_tarjeta\n",
    ")\n",
    ";"
   ]
  },
  {
   "cell_type": "markdown",
   "id": "cdeed286",
   "metadata": {},
   "source": [
    "## 2- Analysis geoespacial "
   ]
  },
  {
   "cell_type": "markdown",
   "id": "aa892a2c",
   "metadata": {},
   "source": [
    "Se cuenta con el dataset ubicaciones.csv, dicho dataset posee coordenadas de diferentes lugares de interes.\n",
    "<br>Se sabe que cuando se agrupan 8 lugares o mas esa zona se la considera zona comercial.\n",
    "<br>Para decir que un local pertenece a la misma zona que otro, deben estar a una distancia menor a 1.2 km\n",
    "- Crear poligonos con todas las zonas comerciales que se encuentren en el dataset.\n",
    "- Una vez encontradas marcar su zona de influencia que es dentro del poligono pero tambien hasta 400m de los limites del mismo\n",
    "- Graficar en un mapa todos los comercios y las zonas de influencia comercial"
   ]
  },
  {
   "cell_type": "code",
   "execution_count": null,
   "id": "52e8ab0a",
   "metadata": {},
   "outputs": [],
   "source": [
    "import folium\n",
    "import geopandas as gpd\n",
    "import pandas as pd\n",
    "from shapely.geometry import mapping\n",
    "from sklearn.cluster import DBSCAN"
   ]
  },
  {
   "cell_type": "code",
   "execution_count": null,
   "id": "9a45f078",
   "metadata": {},
   "outputs": [],
   "source": [
    "df = pd.read_csv(\"../data/ubicaciones.csv\")"
   ]
  },
  {
   "cell_type": "code",
   "execution_count": null,
   "id": "23ffc811",
   "metadata": {},
   "outputs": [],
   "source": [
    "df"
   ]
  },
  {
   "cell_type": "code",
   "execution_count": null,
   "id": "39741680",
   "metadata": {},
   "outputs": [],
   "source": [
    "gdf = gpd.GeoDataFrame(\n",
    "    df,\n",
    "    geometry=gpd.points_from_xy(df[\"longitud\"], df[\"latitud\"]),\n",
    "    crs=\"EPSG:4326\" # Longitude/Latitude\n",
    ")"
   ]
  },
  {
   "cell_type": "code",
   "execution_count": null,
   "id": "3fb5fba9",
   "metadata": {},
   "outputs": [],
   "source": [
    "gdf = gdf.to_crs(epsg=3857) # Web Mercator, meters"
   ]
  },
  {
   "cell_type": "code",
   "execution_count": null,
   "id": "dc43485b",
   "metadata": {},
   "outputs": [],
   "source": [
    "coords = list(zip(gdf.geometry.x, gdf.geometry.y))\n",
    "db = DBSCAN(eps=1200, min_samples=8, metric=\"euclidean\").fit(coords)\n",
    "gdf[\"cluster\"] = db.labels_"
   ]
  },
  {
   "cell_type": "code",
   "execution_count": null,
   "id": "5a9f3b73",
   "metadata": {},
   "outputs": [],
   "source": [
    "gdf"
   ]
  },
  {
   "cell_type": "code",
   "execution_count": null,
   "id": "ff02c8b0",
   "metadata": {},
   "outputs": [],
   "source": [
    "commercial = gdf[gdf['cluster'] != -1].copy()\n",
    "clusters = commercial['cluster'].unique()"
   ]
  },
  {
   "cell_type": "code",
   "execution_count": null,
   "id": "4eeef53e",
   "metadata": {},
   "outputs": [],
   "source": [
    "polygons = []\n",
    "areas_influence = []\n",
    "for cl in clusters:\n",
    "    puntos = commercial[commercial['cluster'] == cl].geometry\n",
    "    polygon = puntos.union_all().convex_hull\n",
    "    polygons.append(polygon)\n",
    "    area_inf = polygon.buffer(400)\n",
    "    areas_influence.append(area_inf)"
   ]
  },
  {
   "cell_type": "code",
   "execution_count": null,
   "id": "e8aa3da2",
   "metadata": {},
   "outputs": [],
   "source": [
    "gdf_polygons = gpd.GeoDataFrame({'geometry': polygons}, crs='EPSG:3857').to_crs(epsg=4326)\n",
    "gdf_influence = gpd.GeoDataFrame({'geometry': areas_influence}, crs='EPSG:3857').to_crs(epsg=4326)\n",
    "gdf = gdf.to_crs(epsg=4326)"
   ]
  },
  {
   "cell_type": "code",
   "execution_count": null,
   "id": "19daad2c",
   "metadata": {},
   "outputs": [],
   "source": [
    "center = [gdf.geometry.y.mean(), gdf.geometry.x.mean()]\n",
    "map_var = folium.Map(location=center, zoom_start=10)"
   ]
  },
  {
   "cell_type": "code",
   "execution_count": null,
   "id": "42fa8320",
   "metadata": {},
   "outputs": [],
   "source": [
    "for _, row in gdf.iterrows():\n",
    "    folium.CircleMarker(\n",
    "        location=[row.geometry.y, row.geometry.x],\n",
    "        radius=3,\n",
    "        color='grey',\n",
    "        fill=True,\n",
    "        fill_opacity=0.7\n",
    "    ).add_to(map_var)"
   ]
  },
  {
   "cell_type": "code",
   "execution_count": null,
   "id": "708b44f9",
   "metadata": {},
   "outputs": [],
   "source": [
    "for _, row in gdf_influence.iterrows():\n",
    "    folium.GeoJson(\n",
    "        mapping(row.geometry),\n",
    "        style_function=lambda x: {'color': 'red', 'weight': 2, 'fill': False, 'dashArray': '5, 5'},\n",
    "        name='Zona de Influencia'\n",
    "    ).add_to(map_var)"
   ]
  },
  {
   "cell_type": "code",
   "execution_count": null,
   "id": "589fe678",
   "metadata": {},
   "outputs": [],
   "source": [
    "for _, row in gdf_polygons.iterrows():\n",
    "    folium.GeoJson(\n",
    "        mapping(row.geometry),\n",
    "        style_function=lambda x: {'color': 'blue', 'weight': 2, 'fill': False},\n",
    "        name='Zona Comercial'\n",
    "    ).add_to(map_var)"
   ]
  },
  {
   "cell_type": "code",
   "execution_count": null,
   "id": "a4ba0361",
   "metadata": {},
   "outputs": [],
   "source": [
    "folium.LayerControl().add_to(map_var)"
   ]
  },
  {
   "cell_type": "code",
   "execution_count": null,
   "id": "0d9e88b0",
   "metadata": {},
   "outputs": [],
   "source": [
    "map_var"
   ]
  },
  {
   "cell_type": "markdown",
   "id": "350c4b56-613c-475c-8c2b-fef9b7d1bfa6",
   "metadata": {},
   "source": [
    "## 3- Machine Learning"
   ]
  },
  {
   "cell_type": "markdown",
   "id": "60ed9e80-87a9-4eec-acc2-f2c1d8586373",
   "metadata": {},
   "source": [
    "# Problema de Retención de Clientes en el Banco PY\n",
    "\n",
    "Se desea resolver el siguiente problema: \n",
    "\n",
    "El banco PY está notando que muchos clientes se están acercando a cerrar su cuenta, lo cual les preocupa. Decidieron implementar una estrategia de retención muy agresiva que, a su vez, es costosa ya que bonifica productos y otorga descuentos que no se ven normalmente en el mercado. \n",
    "\n",
    "Se ha observado en un pequeño experimento que, a pesar de ser una oferta irresistible, cuando un cliente le indica al banco que se quiere dar de baja, ya no hay vuelta atrás. Por esta razón, se desea que los ejecutivos sepan con anticipación cuándo un cliente tiene altas probabilidades de pedir la baja, a pesar de que el motivo de acercarse al banco sea otro. De esta manera, al recibir al cliente, ya se pueden preparar para retenerlos.\n",
    "\n",
    "## Descripción Operativa\n",
    "\n",
    "Cuando un cliente entra en una sucursal, tiene un tótem en donde se registra e indica el motivo de su visita. Esto le genera el turno y, con él, espera a ser atendido por un ejecutivo. \n",
    "\n",
    "El banco posee varias sucursales en Asunción que se gestionan en dos zonas: una céntrica y otra en las afueras. Esta definición no solo tiene que ver con la locación, sino también con el comportamiento y la tolerancia de los clientes.\n",
    "\n",
    "Hoy en día, el equipo de Data Science tiene funcionando un modelo, pero no es suficientemente bueno para la nueva estrategia que propone el equipo comercial, por lo que desean reemplazarlo por uno nuevo.\n",
    "\n",
    "## Objetivos\n",
    "\n",
    "* Desarrollar un modelo de Machine Learning que prediga churn.\n",
    "* Definir cómo sería la implementación y cuándo se usaría.\n",
    "* Explicar la elección del algoritmo utilizado\n",
    "* Explicar los resultados obtenidos (Métricas) y si tiene el rendimiento necesario para salir a producción.\n",
    "* Explicar cuales son las variables que más afectan a la predicción.\n",
    "* Contestar las siguientes preguntas:\n",
    "  * *¿El modelo final elegido es bueno? Justificar*\n",
    "  * *¿Existe overfitting o underfitting?* \n",
    "\n",
    "⚠️**ACLARACIONES:**⚠️\n",
    "\n",
    "- Se tendrá en cuenta la prolijidad del informe. \n",
    "- Se tendrá en cuenta la legibilidad del código.\n",
    "- De ser necesario, dejar asentado los supuestos utilizados por escrito.\n",
    "\n",
    "## Recursos Disponibles\n",
    "\n",
    "Para resolver el desafío, se cuenta con:\n",
    "\n",
    "- Un dataset que contiene las visitas de nuestros clientes a las sucursales y otro de zonas. Esta información consta de datos obtenidos del tótem y del CRM del ejecutivo.\n",
    "- Un modelo actual (función de Python para hacer predicciones).\n",
    "- Datos de costo promedio de la estrategia de retención y rentabilidad esperada del cliente en los 3 primeros meses luego de retenerlo, rentabilidad esperada del cliente en el primer año luego de retenerlo, y rentabilidad del cliente en la última acción de darse de baja.\n",
    "\n",
    "## Descripción del dataset\n",
    "- cliente_id: id del cliente que se registra en el totem de la sucursal\n",
    "- segmento_cliente: segmento del cliente, se obtiene con un modelo de ML que segmenta a los clientes según su comportamiento\n",
    "- tipo_asistencia: la accion que declara el cliente que viene a hacer al banco cuando se registra en el totem. En los últimos meses de volvió opcional\n",
    "- descripcion_atencion: cuando el cliente se registra le dice al totem con su voz qué es lo que viene a hacer al banco, un modelo de IA lo traduce en tiempo real. El cliente también tiene la opción de hacerlo escribiendo en un teclado.\n",
    "- coordenadas_sucursal: coordenadas geográficas en donde se encuentra la sucursal de la atención\n",
    "- inicio_atencion_utc: fecha y hora de inicio de llegada a la sucursa (registro en totem). El huso horario es UTC+0\n",
    "- fin_atencion: fecha y hora de fin de atención marcada desde el CRM del ejecutivo cuando cierra la atención. El huso horario es UTC-3 hora de Paraguay\n",
    "- puntos_de_loyalty: puntos acumulados en el sistema de loyalty\n",
    "- edad: edad del cliente\n",
    "- churn: indica si luego de la atención el cliente se dio de baja del banco o no. Se completa automáticamente desde el CRM por el ejecutivo.\n",
    "\n",
    "- zona: nombre de la zona de atención\n",
    "- poligono: coordenadas del contorno del polígono correspondiente a cada zona"
   ]
  },
  {
   "cell_type": "code",
   "execution_count": null,
   "id": "363f3e70-005f-45c3-a953-ee7132e0fae2",
   "metadata": {},
   "outputs": [],
   "source": [
    "import pandas as pd"
   ]
  },
  {
   "cell_type": "code",
   "execution_count": null,
   "id": "16e35843-515b-411d-907e-47166865dd45",
   "metadata": {},
   "outputs": [],
   "source": [
    "df = pd.read_csv('dataset_churn_challenge.csv')"
   ]
  },
  {
   "cell_type": "code",
   "execution_count": null,
   "id": "a6504dcd-dbc7-4c33-8f35-924d355a4ebb",
   "metadata": {},
   "outputs": [],
   "source": [
    "df_zonas = pd.read_csv('dataset_churn_zona_challenge.csv')"
   ]
  },
  {
   "cell_type": "code",
   "execution_count": null,
   "id": "19ae2055-6a82-4476-b2ef-9c53c9177a51",
   "metadata": {},
   "outputs": [],
   "source": [
    "def predecir_churn(tipo_asistencia):\n",
    "    tipo_asistencia = str(tipo_asistencia)\n",
    "    if tipo_asistencia.lower() == 'problema':\n",
    "        return 1.0  # Siempre devuelve 1 si es un problema\n",
    "    elif tipo_asistencia.lower() == 'reclamo':\n",
    "        return 0.8 if random.random() < 0.5 else 0  # 50% de probabilidad para reclamos\n",
    "    else:\n",
    "        return 0"
   ]
  },
  {
   "cell_type": "markdown",
   "id": "384d12bf-e1ce-482f-91ce-6000106870e8",
   "metadata": {},
   "source": [
    "### Costos y rentabilidad\n",
    "- Costo de estrategia de retención 20\n",
    "- Rentabilidad del cliente en corto plazo 8\n",
    "- Rentabilidad del cliente en largo plazo 50\n",
    "- Rentabilidad del cliente que se da de baja -2"
   ]
  },
  {
   "cell_type": "code",
   "execution_count": null,
   "id": "e14750a2-f6dc-4a5d-b123-c1fc2bb412d5",
   "metadata": {},
   "outputs": [],
   "source": []
  }
 ],
 "metadata": {
  "kernelspec": {
   "display_name": ".venv",
   "language": "python",
   "name": "python3"
  },
  "language_info": {
   "codemirror_mode": {
    "name": "ipython",
    "version": 3
   },
   "file_extension": ".py",
   "mimetype": "text/x-python",
   "name": "python",
   "nbconvert_exporter": "python",
   "pygments_lexer": "ipython3",
   "version": "3.10.16"
  }
 },
 "nbformat": 4,
 "nbformat_minor": 5
}
